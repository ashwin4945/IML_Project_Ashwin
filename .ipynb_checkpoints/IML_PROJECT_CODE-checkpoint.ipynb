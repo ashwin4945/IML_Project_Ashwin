{
 "cells": [
  {
   "cell_type": "code",
   "execution_count": 1,
   "id": "c9c086d1",
   "metadata": {},
   "outputs": [
    {
     "name": "stdout",
     "output_type": "stream",
     "text": [
      "The dimensions of the dataset (45, 2)\n"
     ]
    }
   ],
   "source": [
    "import pandas as pd\n",
    "msg=pd.read_csv('dataset.csv',names=['message','label'])\n",
    "print('The dimensions of the dataset',msg.shape)\n"
   ]
  },
  {
   "cell_type": "code",
   "execution_count": 2,
   "id": "b0b239e7",
   "metadata": {},
   "outputs": [
    {
     "name": "stdout",
     "output_type": "stream",
     "text": [
      "0                I am capable of achieving great things\n",
      "1                             I can't do anything right\n",
      "2              Today is a new day full of possibilities\n",
      "3                         I will never achieve my goals\n",
      "4      I choose to focus on the good in every situation\n",
      "5                 I am not worthy of love and happiness\n",
      "6                   I am surrounded by love and support\n",
      "7                        I will never be able to change\n",
      "8          I am grateful for all that I have in my life\n",
      "9                                   I am stuck in a rut\n",
      "10            I am confident in my abilities and skills\n",
      "11                     I am not as successful as others\n",
      "12           I have the power to create positive change\n",
      "13                                  I am always unlucky\n",
      "14                      I deserve happiness and success\n",
      "15           I don't have enough time to do what I want\n",
      "16                      I am worthy of love and respect\n",
      "17                           I always disappoint others\n",
      "18     I embrace challenges as opportunities for growth\n",
      "19                                I am not smart enough\n",
      "20                  I am in control of my own happiness\n",
      "21                       Nothing ever goes right for me\n",
      "22    I radiate positivity and attract positivity in...\n",
      "23       I will never be able to overcome my challenges\n",
      "24        I am resilient and can overcome any obstacles\n",
      "25                      I am always tired and exhausted\n",
      "26          I am surrounded by abundance and prosperity\n",
      "27                           I am constantly criticized\n",
      "28          I am proud of myself and my accomplishments\n",
      "29                                       I am a failure\n",
      "30    I have the power to make a difference in the w...\n",
      "31            I am not deserving of good things in life\n",
      "32    I am surrounded by supportive and uplifting pe...\n",
      "33            I am always overlooked and underestimated\n",
      "34                 I am filled with joy and contentment\n",
      "35                 I am constantly learning and growing\n",
      "36                      I feel overwhelmed and stressed\n",
      "37       I am capable of handling whatever comes my way\n",
      "38    I am at peace with myself and the world around me\n",
      "39                                 I am not good enough\n",
      "40    I choose to let go of negativity and embrace p...\n",
      "41                 I am worthy of success and happiness\n",
      "42                               I always make mistakes\n",
      "43        I attract positive opportunities into my life\n",
      "44              I am loved and appreciated just as I am\n",
      "Name: message, dtype: object\n",
      "0     1\n",
      "1     0\n",
      "2     1\n",
      "3     0\n",
      "4     1\n",
      "5     0\n",
      "6     1\n",
      "7     0\n",
      "8     1\n",
      "9     0\n",
      "10    1\n",
      "11    0\n",
      "12    1\n",
      "13    0\n",
      "14    1\n",
      "15    0\n",
      "16    1\n",
      "17    0\n",
      "18    1\n",
      "19    0\n",
      "20    1\n",
      "21    0\n",
      "22    1\n",
      "23    0\n",
      "24    1\n",
      "25    0\n",
      "26    1\n",
      "27    0\n",
      "28    1\n",
      "29    0\n",
      "30    1\n",
      "31    0\n",
      "32    1\n",
      "33    0\n",
      "34    1\n",
      "35    1\n",
      "36    0\n",
      "37    1\n",
      "38    1\n",
      "39    0\n",
      "40    1\n",
      "41    1\n",
      "42    0\n",
      "43    1\n",
      "44    1\n",
      "Name: labelnum, dtype: int64\n"
     ]
    }
   ],
   "source": [
    "msg['labelnum']=msg.label.map({'pos':1,'neg':0})\n",
    "X=msg.message\n",
    "y=msg.labelnum\n",
    "print(X)\n",
    "print(y)\n"
   ]
  },
  {
   "cell_type": "code",
   "execution_count": 3,
   "id": "ba4be201",
   "metadata": {},
   "outputs": [
    {
     "name": "stdout",
     "output_type": "stream",
     "text": [
      "\n",
      " the total number of Training Data : (33,)\n",
      "\n",
      " the total number of Test Data : (12,)\n",
      "\n",
      " the test data is: 17    0\n",
      "3     0\n",
      "8     1\n",
      "35    1\n",
      "23    0\n",
      "0     1\n",
      "27    0\n",
      "39    0\n",
      "38    1\n",
      "1     0\n",
      "4     1\n",
      "21    0\n",
      "Name: labelnum, dtype: int64\n"
     ]
    }
   ],
   "source": [
    "from sklearn.model_selection import train_test_split\n",
    "xtrain,xtest,ytrain,ytest=train_test_split(X,y)\n",
    "print ('\\n the total number of Training Data :',ytrain.shape)\n",
    "print ('\\n the total number of Test Data :',ytest.shape)\n",
    "print('\\n the test data is:',ytest)"
   ]
  },
  {
   "cell_type": "code",
   "execution_count": 4,
   "id": "c1fb7f10",
   "metadata": {},
   "outputs": [
    {
     "name": "stdout",
     "output_type": "stream",
     "text": [
      "\n",
      " The words or Tokens in the text documents \n",
      "\n",
      "['abilities' 'able' 'abundance' 'accomplishments' 'always' 'am' 'and'\n",
      " 'any' 'appreciated' 'as' 'attract' 'be' 'by' 'can' 'capable' 'challenges'\n",
      " 'change' 'choose' 'comes' 'confident' 'contentment' 'control' 'create'\n",
      " 'day' 'deserve' 'deserving' 'difference' 'do' 'don' 'embrace' 'enough'\n",
      " 'exhausted' 'failure' 'feel' 'filled' 'for' 'full' 'go' 'good' 'growth'\n",
      " 'handling' 'happiness' 'have' 'in' 'into' 'is' 'joy' 'just' 'let' 'life'\n",
      " 'love' 'loved' 'make' 'mistakes' 'my' 'myself' 'negativity' 'never' 'new'\n",
      " 'not' 'obstacles' 'of' 'opportunities' 'others' 'overcome' 'overlooked'\n",
      " 'overwhelmed' 'own' 'people' 'positive' 'positivity' 'possibilities'\n",
      " 'power' 'prosperity' 'proud' 'radiate' 'resilient' 'respect' 'rut'\n",
      " 'skills' 'smart' 'stressed' 'stuck' 'success' 'successful' 'support'\n",
      " 'supportive' 'surrounded' 'the' 'things' 'time' 'tired' 'to' 'today'\n",
      " 'underestimated' 'unlucky' 'uplifting' 'want' 'way' 'what' 'whatever'\n",
      " 'will' 'with' 'world' 'worthy']\n"
     ]
    }
   ],
   "source": [
    "from sklearn.feature_extraction.text import CountVectorizer\n",
    "count_vect=CountVectorizer()\n",
    "xtrain_dtm = count_vect.fit_transform(xtrain)\n",
    "xtest_dtm=count_vect.transform(xtest)\n",
    "print('\\n The words or Tokens in the text documents \\n')\n",
    "print(count_vect.get_feature_names_out())\n",
    "#print(xtrain_dtm)\n",
    "#print(xtest_dtm)"
   ]
  },
  {
   "cell_type": "code",
   "execution_count": 5,
   "id": "90b3fcf0",
   "metadata": {},
   "outputs": [],
   "source": [
    "df=pd.DataFrame(xtrain_dtm.toarray(),columns=count_vect.get_feature_names_out())"
   ]
  },
  {
   "cell_type": "code",
   "execution_count": 6,
   "id": "f30bf8bc",
   "metadata": {},
   "outputs": [
    {
     "name": "stdout",
     "output_type": "stream",
     "text": [
      "MultinomialNB()\n",
      "[0 0 1 1 0 1 1 0 1 0 1 1]\n",
      "\n",
      " Accuracy of the classifier is 0.8333333333333334\n",
      "\n",
      " Confusion matrix\n",
      "[[5 2]\n",
      " [0 5]]\n",
      "\n",
      " The value of Precision 0.7142857142857143\n",
      "\n",
      " The value of Recall 1.0\n"
     ]
    }
   ],
   "source": [
    "from sklearn.naive_bayes import MultinomialNB\n",
    "clf=MultinomialNB().fit(xtrain_dtm,ytrain)\n",
    "print(clf)\n",
    "predicted=clf.predict(xtest_dtm)\n",
    "print(predicted)\n",
    "from sklearn import metrics\n",
    "print('\\n Accuracy of the classifier is',metrics.accuracy_score(ytest,predicted))\n",
    "print(\"\\n Confusion matrix\")\n",
    "print(metrics.confusion_matrix(ytest,predicted))\n",
    "print('\\n The value of Precision', metrics.precision_score(ytest,predicted))\n",
    "print('\\n The value of Recall', metrics.recall_score(ytest,predicted))"
   ]
  },
  {
   "cell_type": "code",
   "execution_count": null,
   "id": "88ea9882",
   "metadata": {},
   "outputs": [],
   "source": []
  }
 ],
 "metadata": {
  "kernelspec": {
   "display_name": "Python 3 (ipykernel)",
   "language": "python",
   "name": "python3"
  },
  "language_info": {
   "codemirror_mode": {
    "name": "ipython",
    "version": 3
   },
   "file_extension": ".py",
   "mimetype": "text/x-python",
   "name": "python",
   "nbconvert_exporter": "python",
   "pygments_lexer": "ipython3",
   "version": "3.9.13"
  }
 },
 "nbformat": 4,
 "nbformat_minor": 5
}
